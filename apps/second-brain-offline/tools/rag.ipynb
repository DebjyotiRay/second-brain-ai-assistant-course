{
 "cells": [
  {
   "cell_type": "code",
   "execution_count": 1,
   "metadata": {},
   "outputs": [],
   "source": [
    "import os\n",
    "\n",
    "from second_brain_offline.config import settings\n",
    "\n",
    "os.environ[\"OPENAI_API_KEY\"] = settings.OPENAI_API_KEY"
   ]
  },
  {
   "cell_type": "code",
   "execution_count": 2,
   "metadata": {},
   "outputs": [
    {
     "name": "stderr",
     "output_type": "stream",
     "text": [
      "/Users/pauliusztin/Documents/01_projects/llm-rag-bootcamp/apps/second-brain-offline/.venv-offline/lib/python3.12/site-packages/pydantic/_internal/_config.py:341: UserWarning: Valid config keys have changed in V2:\n",
      "* 'fields' has been removed\n",
      "  warnings.warn(message, UserWarning)\n"
     ]
    }
   ],
   "source": [
    "from second_brain_offline.application.rag import get_retriever\n",
    "\n",
    "retriever = get_retriever()"
   ]
  },
  {
   "cell_type": "code",
   "execution_count": 3,
   "metadata": {},
   "outputs": [],
   "source": [
    "from langchain_core.output_parsers import StrOutputParser\n",
    "from langchain_core.prompts import ChatPromptTemplate\n",
    "from langchain_core.runnables import RunnablePassthrough\n",
    "from langchain_openai import ChatOpenAI\n",
    "\n",
    "# Retrieve and parse documents\n",
    "retrieve = {\n",
    "    \"context\": retriever\n",
    "    | (lambda docs: \"\\n\\n\".join([d.page_content for d in docs])),\n",
    "    \"question\": RunnablePassthrough(),\n",
    "}\n",
    "template = \"\"\"Answer the question based only on the following context. If no context is provided, respond with I DON'T KNOW: \\\n",
    "{context}\n",
    "\n",
    "Question: {question}\n",
    "\"\"\"\n",
    "# Define the chat prompt\n",
    "prompt = ChatPromptTemplate.from_template(template)\n",
    "# Define the model to be used for chat completion\n",
    "llm = ChatOpenAI(temperature=0, model=\"gpt-4o-2024-11-20\")\n",
    "# Parse output as a string\n",
    "parse_output = StrOutputParser()\n",
    "# Naive RAG chain\n",
    "rag_chain = retrieve | prompt | llm | parse_output"
   ]
  },
  {
   "cell_type": "code",
   "execution_count": 4,
   "metadata": {},
   "outputs": [
    {
     "name": "stdout",
     "output_type": "stream",
     "text": [
      "I DON'T KNOW\n"
     ]
    }
   ],
   "source": [
    "answer = rag_chain.invoke(\"How can I optimize LLMs for inference?\")\n",
    "print(answer)\n"
   ]
  },
  {
   "cell_type": "code",
   "execution_count": 5,
   "metadata": {},
   "outputs": [
    {
     "name": "stdout",
     "output_type": "stream",
     "text": [
      "RAGAs (**R**etrieval-**A**ugmented **G**eneration **As**sessment) is a framework that provides the necessary tools to evaluate a Retrieval-Augmented Generation (RAG) pipeline on a component level.\n"
     ]
    }
   ],
   "source": [
    "answer = rag_chain.invoke(\"What is RAGAS?\")\n",
    "print(answer)"
   ]
  },
  {
   "cell_type": "code",
   "execution_count": 6,
   "metadata": {},
   "outputs": [
    {
     "name": "stdout",
     "output_type": "stream",
     "text": [
      "I DON'T KNOW\n"
     ]
    }
   ],
   "source": [
    "answer = rag_chain.invoke(\"How does Tensorflow Recommenders work?\")\n",
    "print(answer)"
   ]
  },
  {
   "cell_type": "code",
   "execution_count": 8,
   "metadata": {},
   "outputs": [
    {
     "name": "stdout",
     "output_type": "stream",
     "text": [
      "0    ----------------------------------------------------------------------------------------------------\n",
      "[](https://medium.com/search?source=---top_nav_layout_nav----------------------------------)\n",
      "\n",
      "[Sign up](https://medium.com/m/signin?operation=register&redirect=https%3A%2F%2Ftowardsdatascience.com%2Fevaluating-rag-applications-with-ragas-81d67b0ee31a&source=post_page---top_nav_layout_nav-----------------------global_nav-----------)\n",
      "\n",
      "[Sign in](https://medium.com/m/signin?operation=login&redirect=https%3A%2F%2Ftowardsdatascience.com%2Fevaluating-rag-applications-with-ragas-81d67b0ee31a&source=post_page---top_nav_layout_nav-----------------------global_nav-----------)\n",
      "\n",
      "![](https://miro.medium.com/v2/resize:fill:64:64/1*dmbNkD5D-u45r44go_cf0g.png)\n",
      "\n",
      "Top highlight\n",
      "\n",
      "# Evaluating RAG Applications with RAGAs\n",
      "\n",
      "## A framework with metrics and LLM-generated data to evaluate the performance of your Retrieval-Augmented Generation pipeline Context:\n",
      "The document discusses the challenges of evaluating Retrieval-Augmented Generation (RAG) applications and introduces RAGAs, a framework that utilizes metrics and LLM-generated data for performance assessment of RAG pipelines.\n",
      "1    ----------------------------------------------------------------------------------------------------\n",
      "[Rags](https://medium.com/tag/rags?source=post_page-----81d67b0ee31a--------------------------------)\n",
      "\n",
      "[](https://medium.com/m/signin?actionUrl=https%3A%2F%2Fmedium.com%2F_%2Fvote%2Ftowards-data-science%2F81d67b0ee31a&operation=register&redirect=https%3A%2F%2Ftowardsdatascience.com%2Fevaluating-rag-applications-with-ragas-81d67b0ee31a&user=Leonie+Monigatti&userId=3a38da70d8dc&source=---footer_actions--81d67b0ee31a---------------------clap_footer-----------)\n",
      "\n",
      "1.6K\n",
      "\n",
      "[](https://medium.com/m/signin?actionUrl=https%3A%2F%2Fmedium.com%2F_%2Fvote%2Ftowards-data-science%2F81d67b0ee31a&operation=register&redirect=https%3A%2F%2Ftowardsdatascience.com%2Fevaluating-rag-applications-with-ragas-81d67b0ee31a&user=Leonie+Monigatti&userId=3a38da70d8dc&source=---footer_actions--81d67b0ee31a---------------------clap_footer-----------) Context:\n",
      "The document discusses the evaluation of Retrieval-Augmented Generation (RAG) applications using the RAGAs framework, which provides metrics and methodologies for assessing the performance of RAG pipelines.\n",
      "2    ----------------------------------------------------------------------------------------------------\n",
      "·\n",
      "\n",
      "8 min read\n",
      "\n",
      "·\n",
      "\n",
      "Dec 13, 2023\n",
      "\n",
      "[](https://medium.com/m/signin?actionUrl=https%3A%2F%2Fmedium.com%2F_%2Fvote%2Ftowards-data-science%2F81d67b0ee31a&operation=register&redirect=https%3A%2F%2Ftowardsdatascience.com%2Fevaluating-rag-applications-with-ragas-81d67b0ee31a&user=Leonie+Monigatti&userId=3a38da70d8dc&source=---header_actions--81d67b0ee31a---------------------clap_footer-----------)\n",
      "\n",
      "1.6K\n",
      "\n",
      "9\n",
      "\n",
      "[](https://medium.com/m/signin?actionUrl=https%3A%2F%2Fmedium.com%2F_%2Fbookmark%2Fp%2F81d67b0ee31a&operation=register&redirect=https%3A%2F%2Ftowardsdatascience.com%2Fevaluating-rag-applications-with-ragas-81d67b0ee31a&source=---header_actions--81d67b0ee31a---------------------bookmark_footer-----------) Context:\n",
      "This chunk is part of an article titled \"Evaluating RAG Applications with RAGAs,\" published on December 13, 2023, discussing the challenges of making Retrieval-Augmented Generation (RAG) applications production-ready and the importance of evaluation metrics.\n"
     ]
    }
   ],
   "source": [
    "for i, doc in enumerate(\n",
    "    retriever.invoke(\"Evaluating RAG Applications with RAGAs\")\n",
    "):\n",
    "    print(i, \"  \", \"-\" * 100)\n",
    "    print(doc.page_content)"
   ]
  },
  {
   "cell_type": "code",
   "execution_count": 9,
   "metadata": {},
   "outputs": [
    {
     "name": "stdout",
     "output_type": "stream",
     "text": [
      "0    ----------------------------------------------------------------------------------------------------\n",
      "Currently, determining the right evaluation metrics and collecting good validation data is an active\n",
      "1    ----------------------------------------------------------------------------------------------------\n",
      "[Rags](https://medium.com/tag/rags?source=post_page-----81d67b0ee31a--------------------------------\n",
      "2    ----------------------------------------------------------------------------------------------------\n",
      "[](https://medium.com/search?source=---top_nav_layout_nav----------------------------------)\n",
      "\n",
      "[Sign \n"
     ]
    }
   ],
   "source": [
    "for i, doc in enumerate(retriever.invoke(\"What is RAGAS?\")):\n",
    "    print(i, \"  \", \"-\" * 100)\n",
    "    print(doc.page_content[:100])"
   ]
  }
 ],
 "metadata": {
  "kernelspec": {
   "display_name": ".venv",
   "language": "python",
   "name": "python3"
  },
  "language_info": {
   "codemirror_mode": {
    "name": "ipython",
    "version": 3
   },
   "file_extension": ".py",
   "mimetype": "text/x-python",
   "name": "python",
   "nbconvert_exporter": "python",
   "pygments_lexer": "ipython3",
   "version": "3.12.8"
  }
 },
 "nbformat": 4,
 "nbformat_minor": 2
}
